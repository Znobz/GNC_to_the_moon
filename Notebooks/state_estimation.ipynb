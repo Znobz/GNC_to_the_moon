{
 "cells": [
  {
   "cell_type": "markdown",
   "metadata": {},
   "source": [
    "# State Estimation Using Particle Filter Algorithm"
   ]
  },
  {
   "cell_type": "markdown",
   "metadata": {},
   "source": []
  },
  {
   "cell_type": "code",
   "execution_count": 3,
   "metadata": {},
   "outputs": [],
   "source": [
    "import numpy as np\n",
    "import random\n",
    "import math"
   ]
  },
  {
   "cell_type": "code",
   "execution_count": 2,
   "metadata": {},
   "outputs": [],
   "source": [
    "class ParticleFilter:\n",
    "    def __init__(self, N_density = None, GPS = None, GPS_accuracy_radius = None):\n",
    "        if N_density:\n",
    "            self.N_density = N_density # number of initial particles\n",
    "        else:\n",
    "            self.N_density = 10000\n",
    "        self.GPS_accuracy_radius = GPS_accuracy_radius\n",
    "        self.confidence_volume = 4/3 * math.pi * self.GPS_accuracy_radius**3\n",
    "        self.N = self.N_density * self.confidence_volume\n",
    "\n",
    "        self.old_distances = np.zeros((1,self.N))\n",
    "        self.new_distances = np.zeros((1,self.N))\n",
    "        \n",
    "        if not GPS:\n",
    "            self.X_GPS_curr = np.zeros((1,3), dtype=float) # current time step\n",
    "            self.X_GPS_prev = np.zeros((1,3), dtype=float) # previous time step\n",
    "        else:\n",
    "            self.X_GPS = GPS\n",
    "        self.V_GPS = np.zeros((1,3), dtype=float)\n",
    "        \n",
    "        self.particles_curr = np.zeros((self.N, 6), dtype=float)\n",
    "        self.particles_old = np.zeros((self.N, 6), dtype=float)\n",
    "\n",
    "    def _in_sphere(self, center, radius, point):\n",
    "        # TODO: Remain outside the new sphere \n",
    "        if math.sqrt((point[0] - center[0]) * (point[0] - center[0]) + (point[1] - center[1]) * (point[1] - center[1]) + (point[2] - center[2]) * (point[2] - center[2])) <= radius:\n",
    "            return True\n",
    "        return False\n",
    "    \n",
    "    def _got_closer(prev_GPS, new_GPS, point):\n",
    "        pass\n",
    "    def _update_distances(self):\n",
    "        N = np.shape(self.old_distances)\n",
    "\n",
    "        for i in range(0,N):\n",
    "            self.new_distances[i] = np.linalg.norm(self.X_GPS_curr - self.particles_curr[i])\n",
    "            self.old_distances[i] = np.linalg.norm(self.X_GPS_prev - self.particles_old[i])\n",
    "\n",
    "    def _got_closer(self, point):\n",
    "        if self.new_distances[point] >= self.old_distances[point]:\n",
    "            return False\n",
    "        else:\n",
    "            return True\n",
    "        # TODO: Particles which got further away from X_GPS than getting closer\n",
    "\n",
    "    def update_GPS_location(self, new_coordinates):\n",
    "        self.X_GPS_prev = self.X_GPS_curr\n",
    "        self.X_GPS_curr = new_coordinates\n",
    "\n",
    "    def update_weights():\n",
    "        #TODO\n",
    "        pass\n",
    "\n",
    "    def progress_particles(self, A):\n",
    "        self.particles_old = self.particles_curr\n",
    "        # Update the states of each particle using physics.\n",
    "        A_translational = A[6][6]\n",
    "        #TODO add randomized noise upon state translation of particles for each particle\n",
    "        std = 3\n",
    "        for i in range(len(self.particles_curr)):\n",
    "            self.particles_curr[i] = A_translational @ self.particles_curr[i].T\n",
    "            #generating gausian values for each of the positions with the axis as the mean with std of 3\n",
    "            xTranslation = np.random.normal(self.particles_curr[i][0], std)\n",
    "            yTranslation = np.random.normal(self.particles_curr[i][1], std)\n",
    "            zTranslation = np.random.normal(self.particles_curr[i][2], std)\n",
    "            #translate the particle by the value we get\n",
    "            self.particles_curr[i][0] += xTranslation\n",
    "            self.particles_curr[i][1] += yTranslation\n",
    "            self.particles_curr[i][2] += zTranslation\n",
    "            \n",
    "\n",
    "        \n",
    "\n",
    "    def filter_particles(self,time_step):\n",
    "        \"\"\"\n",
    "        TODO: filter out the particles that \n",
    "        (i)     Remain outside the new sphere \n",
    "        (ii)    Particles which got further away from X_GPS than getting closer\n",
    "        (iii)   Update weights proportional to how closer they got compared to previously\n",
    "        \"\"\"\n",
    "        preserved = []\n",
    "\n",
    "        for i, particle in enumerate(self.particles):\n",
    "            if self._in_sphere(self.X_GPS_curr, self.GPS_accuracy_radius, particle) == True and self._got_closer(i) == True:\n",
    "                preserved.append(i)\n",
    "        \n",
    "        temp = np.zeros((len(preserved), 6), dtype=float)\n",
    "        for i, preserved_index in enumerate(preserved):\n",
    "            temp[i] = self.particles_curr[preserved_index]\n",
    "\n",
    "        return self.particles\n",
    "\n",
    "    def monte_carlo_sampling(self, time_step):\n",
    "        \"\"\"\n",
    "        TODO:   Update the class variable particles to do a monte carlo resampling.\n",
    "                With increasing time_step the number of rows in self.particles must reduce until it reaches 1 -> convergence\n",
    "        \"\"\"\n",
    "        \n",
    "        # base step\n",
    "        if time_step == 0: \n",
    "            list1 = [random.randrange(self.X_GPS[i] - self.GPS_accuracy[i], self.X_GPS[i] + self.GPS_accuracy[i]) for i in range(0,3)]\n",
    "        else:\n",
    "            pass\n",
    "        \n",
    "        return self.particles\n",
    "        \n",
    "            "
   ]
  },
  {
   "cell_type": "markdown",
   "metadata": {},
   "source": [
    "# Usage:"
   ]
  },
  {
   "cell_type": "code",
   "execution_count": null,
   "metadata": {},
   "outputs": [],
   "source": [
    "filter = ParticleFilter()\n",
    "for time_step in range(1, 100000):\n",
    "    filter.update_GPS_location() # coming from the c++ library\n",
    "    filter.filter_particles(time_step)\n",
    "    filter.monte_carlo_sampling(time_step)"
   ]
  },
  {
   "cell_type": "code",
   "execution_count": 8,
   "metadata": {},
   "outputs": [
    {
     "name": "stdout",
     "output_type": "stream",
     "text": [
      "particle = [1 0 0 0 0]\n",
      "particle = [0 2 0 0 0]\n",
      "particle = [0 0 3 0 0]\n",
      "particle = [0 0 0 4 0]\n",
      "particle = [0 0 0 0 5]\n",
      "i = 0\n",
      "particle = [1 0 0 0 0]\n",
      "i = 1\n",
      "particle = [0 2 0 0 0]\n",
      "i = 2\n",
      "particle = [0 0 3 0 0]\n",
      "i = 3\n",
      "particle = [0 0 0 4 0]\n",
      "i = 4\n",
      "particle = [0 0 0 0 5]\n"
     ]
    }
   ],
   "source": [
    "particles = np.diag([1,2,3,4,5])\n",
    "count = 0\n",
    "for particle in particles:\n",
    "    print(f\"particle = {particle}\")\n",
    "    count += 1\n",
    "\n",
    "for i, particle in enumerate(particles):\n",
    "    print(f\"i = {i}\")\n",
    "    print(f\"particle = {particle}\")"
   ]
  },
  {
   "cell_type": "code",
   "execution_count": 12,
   "metadata": {},
   "outputs": [],
   "source": [
    "particles_curr = [1,2,3,4,5]\n",
    "for i in particles_curr:\n",
    "            i = 2 * i"
   ]
  },
  {
   "cell_type": "code",
   "execution_count": 13,
   "metadata": {},
   "outputs": [
    {
     "data": {
      "text/plain": [
       "[1, 2, 3, 4, 5]"
      ]
     },
     "execution_count": 13,
     "metadata": {},
     "output_type": "execute_result"
    }
   ],
   "source": [
    "particles_curr"
   ]
  },
  {
   "cell_type": "code",
   "execution_count": 14,
   "metadata": {},
   "outputs": [],
   "source": [
    "for i in range(0,len(particles_curr)):\n",
    "            particles_curr[i] = 2 * particles_curr[i]"
   ]
  },
  {
   "cell_type": "code",
   "execution_count": 15,
   "metadata": {},
   "outputs": [
    {
     "data": {
      "text/plain": [
       "[2, 4, 6, 8, 10]"
      ]
     },
     "execution_count": 15,
     "metadata": {},
     "output_type": "execute_result"
    }
   ],
   "source": [
    "particles_curr"
   ]
  },
  {
   "cell_type": "code",
   "execution_count": 5,
   "metadata": {},
   "outputs": [
    {
     "name": "stdout",
     "output_type": "stream",
     "text": [
      "4.69041575982343\n",
      "3.0\n",
      "False\n"
     ]
    }
   ],
   "source": [
    "import numpy as np\n",
    "\n",
    "def _got_closer(prev_GPS, new_GPS, point):\n",
    "    print(np.linalg.norm(np.array(prev_GPS) - np.array(point)))\n",
    "    print(np.linalg.norm(np.array(new_GPS) - np.array(point)))\n",
    "    if (np.linalg.norm(np.array(prev_GPS) - np.array(point))) >= (np.linalg.norm(np.array(new_GPS) - np.array(point))):\n",
    "        return False\n",
    "    else:\n",
    "        return True\n",
    "\n",
    "prevState = [1,2,3]\n",
    "currParticle = [2,3,4]\n",
    "newState = [3,5,6]\n",
    "\n",
    "\n",
    "currStatus = _got_closer(prevState, currParticle, newState)\n",
    "print(currStatus)"
   ]
  }
 ],
 "metadata": {
  "kernelspec": {
   "display_name": "env",
   "language": "python",
   "name": "python3"
  },
  "language_info": {
   "codemirror_mode": {
    "name": "ipython",
    "version": 3
   },
   "file_extension": ".py",
   "mimetype": "text/x-python",
   "name": "python",
   "nbconvert_exporter": "python",
   "pygments_lexer": "ipython3",
   "version": "3.12.0"
  }
 },
 "nbformat": 4,
 "nbformat_minor": 2
}
